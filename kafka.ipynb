{
  "nbformat": 4,
  "nbformat_minor": 0,
  "metadata": {
    "colab": {
      "name": "kafka.ipynb",
      "provenance": [],
      "authorship_tag": "ABX9TyPW7DfXxk2T6wznGIAEtrRu",
      "include_colab_link": true
    },
    "kernelspec": {
      "name": "python3",
      "display_name": "Python 3"
    },
    "language_info": {
      "name": "python"
    }
  },
  "cells": [
    {
      "cell_type": "markdown",
      "metadata": {
        "id": "view-in-github",
        "colab_type": "text"
      },
      "source": [
        "<a href=\"https://colab.research.google.com/github/FaisalWant/kafka/blob/main/kafka.ipynb\" target=\"_parent\"><img src=\"https://colab.research.google.com/assets/colab-badge.svg\" alt=\"Open In Colab\"/></a>"
      ]
    },
    {
      "cell_type": "code",
      "execution_count": null,
      "metadata": {
        "id": "l8owmNraUQA6"
      },
      "outputs": [],
      "source": [
        ""
      ]
    },
    {
      "cell_type": "markdown",
      "source": [
        "setup Kafka:\n"
      ],
      "metadata": {
        "id": "Smptt_WAUczd"
      }
    },
    {
      "cell_type": "code",
      "source": [
        "!curl -sSOL https://downloads.apache.org/kafka/3.2.0/kafka_2.13-3.2.0.tgz\n",
        "!tar -xzf kafka_2.13-3.2.0.tgz"
      ],
      "metadata": {
        "id": "Z1X3CPICUgud"
      },
      "execution_count": 11,
      "outputs": []
    },
    {
      "cell_type": "code",
      "source": [
        "!cd kafka_2.13-3.2.0\n"
      ],
      "metadata": {
        "id": "rCt66xVDWH1Z"
      },
      "execution_count": 12,
      "outputs": []
    },
    {
      "cell_type": "code",
      "source": [
        "!ls"
      ],
      "metadata": {
        "colab": {
          "base_uri": "https://localhost:8080/"
        },
        "id": "UDJYdAp3WT4L",
        "outputId": "c8b7f903-4cdd-4d82-a443-0f9a884ce58e"
      },
      "execution_count": 14,
      "outputs": [
        {
          "output_type": "stream",
          "name": "stdout",
          "text": [
            "kafka_2.13-3.2.0  kafka_2.13-3.2.0.tgz\tsample_data\n"
          ]
        }
      ]
    },
    {
      "cell_type": "code",
      "source": [
        "!./kafka_2.13-3.2.0/bin/zookeeper-server-start.sh   -daemon   ./kafka_2.13-3.2.0/config/zookeeper.properties\n",
        "!./kafka_2.13-3.2.0/bin/zookeeper-server-start.sh   -daemon    ./kafka_2.13-3.2.0/config/server.properties\n",
        "!echo \"Waiting for 10 secs until kafka and zookeeper services are up and running\"\n",
        "!sleep 10\n"
      ],
      "metadata": {
        "colab": {
          "base_uri": "https://localhost:8080/"
        },
        "id": "0nKBoWTgYqnV",
        "outputId": "b4a4b5d0-00a2-48e2-cd71-0f95896a420a"
      },
      "execution_count": 15,
      "outputs": [
        {
          "output_type": "stream",
          "name": "stdout",
          "text": [
            "Waiting for 10 secs until kafka and zookeeper services are up and running\n"
          ]
        }
      ]
    },
    {
      "cell_type": "code",
      "source": [
        "!ps -ef | grep kafka"
      ],
      "metadata": {
        "id": "bN9RnVcUZz3O"
      },
      "execution_count": null,
      "outputs": []
    }
  ]
}