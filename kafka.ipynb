{
  "nbformat": 4,
  "nbformat_minor": 0,
  "metadata": {
    "colab": {
      "name": "kafka.ipynb",
      "provenance": [],
      "collapsed_sections": [],
      "authorship_tag": "ABX9TyMx+9IrH+m65+YOhg4USJaD",
      "include_colab_link": true
    },
    "kernelspec": {
      "name": "python3",
      "display_name": "Python 3"
    },
    "language_info": {
      "name": "python"
    }
  },
  "cells": [
    {
      "cell_type": "markdown",
      "metadata": {
        "id": "view-in-github",
        "colab_type": "text"
      },
      "source": [
        "<a href=\"https://colab.research.google.com/github/FaisalWant/kafka/blob/main/kafka.ipynb\" target=\"_parent\"><img src=\"https://colab.research.google.com/assets/colab-badge.svg\" alt=\"Open In Colab\"/></a>"
      ]
    },
    {
      "cell_type": "markdown",
      "source": [
        "setup Kafka:\n"
      ],
      "metadata": {
        "id": "Smptt_WAUczd"
      }
    },
    {
      "cell_type": "markdown",
      "source": [
        "- Kafka (Brokers: 127.0.0.1:9092)\n",
        "- Zookeeper (Node: 127.0.0.1:2181)"
      ],
      "metadata": {
        "id": "h3B5ghGWZPiV"
      }
    },
    {
      "cell_type": "code",
      "execution_count": 1,
      "metadata": {
        "id": "YUj0878jPyz7"
      },
      "outputs": [],
      "source": [
        "!curl -sSOL https://dlcdn.apache.org/kafka/3.1.0/kafka_2.13-3.1.0.tgz\n",
        "!tar -xzf kafka_2.13-3.1.0.tgz"
      ]
    },
    {
      "cell_type": "code",
      "source": [
        "!ls"
      ],
      "metadata": {
        "id": "UDJYdAp3WT4L",
        "colab": {
          "base_uri": "https://localhost:8080/"
        },
        "outputId": "36211b0c-4ceb-48bc-d9b3-323625aaada1"
      },
      "execution_count": 2,
      "outputs": [
        {
          "output_type": "stream",
          "name": "stdout",
          "text": [
            "kafka_2.13-3.1.0  kafka_2.13-3.1.0.tgz\tsample_data\n"
          ]
        }
      ]
    },
    {
      "cell_type": "markdown",
      "source": [
        "Using the default configurations (provided by Apache Kafka) for spinning up the instances."
      ],
      "metadata": {
        "id": "XJc6DH6VBFPQ"
      }
    },
    {
      "cell_type": "code",
      "source": [
        "!./kafka_2.13-3.1.0/bin/zookeeper-server-start.sh -daemon ./kafka_2.13-3.1.0/config/zookeeper.properties\n",
        "!./kafka_2.13-3.1.0/bin/kafka-server-start.sh -daemon ./kafka_2.13-3.1.0/config/server.properties\n",
        "!echo \"Waiting for 10 secs until kafka and zookeeper services are up and running\"\n",
        "!sleep 10"
      ],
      "metadata": {
        "colab": {
          "base_uri": "https://localhost:8080/"
        },
        "id": "0nKBoWTgYqnV",
        "outputId": "4c3bf433-4de8-4128-a5f7-079d0a97e85a"
      },
      "execution_count": 3,
      "outputs": [
        {
          "output_type": "stream",
          "name": "stdout",
          "text": [
            "Waiting for 10 secs until kafka and zookeeper services are up and running\n"
          ]
        }
      ]
    },
    {
      "cell_type": "code",
      "source": [
        "!ps -ef | grep kafka"
      ],
      "metadata": {
        "id": "bN9RnVcUZz3O"
      },
      "execution_count": null,
      "outputs": []
    },
    {
      "cell_type": "code",
      "source": [
        "!./kafka_2.13-3.1.0/bin/kafka-topics.sh --create --bootstrap-server 127.0.0.1:9092 --replication-factor 1 --partitions 1 --topic susy-train\n",
        "!./kafka_2.13-3.1.0/bin/kafka-topics.sh --create --bootstrap-server 127.0.0.1:9092 --replication-factor 1 --partitions 2 --topic susy-test\n"
      ],
      "metadata": {
        "colab": {
          "base_uri": "https://localhost:8080/"
        },
        "id": "02WiLZxYcoZh",
        "outputId": "56f351a6-1f22-482b-e5da-b3178af8124f"
      },
      "execution_count": 5,
      "outputs": [
        {
          "output_type": "stream",
          "name": "stdout",
          "text": [
            "Created topic susy-train.\n",
            "Created topic susy-test.\n"
          ]
        }
      ]
    },
    {
      "cell_type": "code",
      "source": [
        "!./kafka_2.13-3.1.0/bin/kafka-topics.sh --describe --bootstrap-server 127.0.0.1:9092 --topic susy-train\n",
        "!./kafka_2.13-3.1.0/bin/kafka-topics.sh --describe --bootstrap-server 127.0.0.1:9092 --topic susy-test"
      ],
      "metadata": {
        "id": "W4z0ut70PLVC",
        "colab": {
          "base_uri": "https://localhost:8080/"
        },
        "outputId": "6f7d4946-d795-4df9-ad31-18772cc9ad11"
      },
      "execution_count": 6,
      "outputs": [
        {
          "output_type": "stream",
          "name": "stdout",
          "text": [
            "Topic: susy-train\tTopicId: Y_MUYfO5SYWIwajBxViMhA\tPartitionCount: 1\tReplicationFactor: 1\tConfigs: segment.bytes=1073741824\n",
            "\tTopic: susy-train\tPartition: 0\tLeader: 0\tReplicas: 0\tIsr: 0\n",
            "Topic: susy-test\tTopicId: CgBrPcn9SQuwc8F3BFY_RA\tPartitionCount: 2\tReplicationFactor: 1\tConfigs: segment.bytes=1073741824\n",
            "\tTopic: susy-test\tPartition: 0\tLeader: 0\tReplicas: 0\tIsr: 0\n",
            "\tTopic: susy-test\tPartition: 1\tLeader: 0\tReplicas: 0\tIsr: 0\n"
          ]
        }
      ]
    },
    {
      "cell_type": "code",
      "source": [
        "!./kafka_2.13-3.1.0/bin/kafka-topics.sh --list --bootstrap-server 127.0.0.1:9092\n"
      ],
      "metadata": {
        "colab": {
          "base_uri": "https://localhost:8080/"
        },
        "id": "EUQOhcV9QEAo",
        "outputId": "511daa96-7b70-4939-ca8a-c710c9af586a"
      },
      "execution_count": 11,
      "outputs": [
        {
          "output_type": "stream",
          "name": "stdout",
          "text": [
            "susy-test\n",
            "susy-train\n"
          ]
        }
      ]
    },
    {
      "cell_type": "code",
      "source": [
        "!./kafka_2.13-3.1.0/bin/kafka-console-producer.sh  --broker-list 127.0.0.1:9092  --topic susy-train "
      ],
      "metadata": {
        "id": "R5nRfsfFa7CA"
      },
      "execution_count": null,
      "outputs": []
    },
    {
      "cell_type": "code",
      "source": [
        "!./kafka_2.13-3.1.0/bin/kafka-console-consumer.sh --topic susy-train --bootstrap-server localhost:9092 --from-beginning"
      ],
      "metadata": {
        "id": "m1OhgpJvnoUb"
      },
      "execution_count": null,
      "outputs": []
    },
    {
      "cell_type": "markdown",
      "source": [
        "Using Python to interact with kafka"
      ],
      "metadata": {
        "id": "dHsyKh9jqgm6"
      }
    },
    {
      "cell_type": "code",
      "source": [
        "!pip install confluent-kafka"
      ],
      "metadata": {
        "id": "q05T2B5hr8rc"
      },
      "execution_count": null,
      "outputs": []
    },
    {
      "cell_type": "code",
      "source": [
        "import asyncio \n",
        "\n",
        "from confluent_kafka import Consumer, Producer \n",
        "from confluent_kafka.admin import AdminClient, NewTopic \n",
        "\n",
        "BROKER_URL= \"PLAINTEXT://localhost:9092\" \n",
        "TOPIC_NAME= \"susy-train\" \n",
        "\n",
        "async def produce(topic_name): \n",
        "  \"\"\" Produce data into kafka topic\"\"\" \n",
        "  p= Producer({\"bootstrap.servers\":BROKER_URL})\n",
        "  curr_iteration=0 \n",
        "  \n",
        "  while True: \n",
        "    p.produce(TOPIC_NAME, f\"Message:{curr_iteration}\")\n",
        "    curr_iteration+=1 \n",
        "\n",
        "\n",
        "    await asyncio.sleep(1)\n",
        "\n",
        "\n",
        "\n",
        "\n",
        "async def consume(topic_name): \n",
        "  \"\"\" consume data from kafka topic\"\"\" \n",
        "  c= Consumer({\"bootstrap.servers\":BROKER_URL, \"group.id\":\"First-Python_consumer\"})\n",
        "  c.subscribe([TOPIC_NAME]) \n",
        "\n",
        "  while True:\n",
        "    message= c.poll(1.0)\n",
        "    if message is None :\n",
        "      print(\"No message received\") \n",
        "    \n",
        "    elif message.error() is not None: \n",
        "      print(f\"Message had an error{ message.error()}\")\n",
        "    else: \n",
        "      print(f\"Key: {message.key()}, Value:{message.value()}\")\n",
        "\n",
        "    await asyncio.sleep(1) \n",
        "\n",
        "\n",
        "async def produce_consume():\n",
        "  \"\"\" Runs the producer and consumer task\"\"\"\n",
        "  t1= asyncio.create_task(produce(TOPIC_NAME)) \n",
        "  t2= asyncio.create_task(consume(TOPIC_NAME))\n",
        "\n",
        "  await t1\n",
        "  await t2\n",
        "\n",
        "\n",
        "\n",
        "def main():\n",
        "  client= AdminClient({\"bootstrap.servers\":BROKER_URL})\n",
        "  topic= NewTopic(TOPIC_NAME, num_partitions=1, replication_factor=1)\n",
        "\n",
        "  client.create_topics([topic])\n",
        "\n",
        "  try: \n",
        "    asyncio.run(produce_consume()) \n",
        "  \n",
        "  except: \n",
        "    print(\"Shutting Down\") \n",
        "  \n",
        "  finally: \n",
        "    client.delete_topics([topic]) \n",
        "    pass \n",
        "\n",
        "\n",
        "\n",
        "main()"
      ],
      "metadata": {
        "id": "8P9eTgkTpHQ0"
      },
      "execution_count": null,
      "outputs": []
    },
    {
      "cell_type": "code",
      "source": [
        "#!tail -f /var/log/journal/confluent-kafka.service.log    ---Kafka logs"
      ],
      "metadata": {
        "id": "Cr9sdhcJvLiU"
      },
      "execution_count": null,
      "outputs": []
    },
    {
      "cell_type": "code",
      "source": [
        ""
      ],
      "metadata": {
        "id": "79z0LEdYwvg_"
      },
      "execution_count": null,
      "outputs": []
    }
  ]
}