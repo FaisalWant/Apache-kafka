{
  "cells": [
    {
      "cell_type": "markdown",
      "metadata": {
        "id": "view-in-github",
        "colab_type": "text"
      },
      "source": [
        "<a href=\"https://colab.research.google.com/github/FaisalWant/Apache-kafka/blob/main/kafka.ipynb\" target=\"_parent\"><img src=\"https://colab.research.google.com/assets/colab-badge.svg\" alt=\"Open In Colab\"/></a>"
      ]
    },
    {
      "cell_type": "markdown",
      "metadata": {
        "id": "Smptt_WAUczd"
      },
      "source": [
        "setup Kafka:\n"
      ]
    },
    {
      "cell_type": "markdown",
      "metadata": {
        "id": "h3B5ghGWZPiV"
      },
      "source": [
        "- Kafka (Brokers: 127.0.0.1:9092)\n",
        "- Zookeeper (Node: 127.0.0.1:2181)"
      ]
    },
    {
      "cell_type": "code",
      "execution_count": 5,
      "metadata": {
        "id": "YUj0878jPyz7"
      },
      "outputs": [],
      "source": [
        "!curl -sSOL https://dlcdn.apache.org/kafka/3.1.0/kafka_2.13-3.1.0.tgz\n",
        "!tar -xzf kafka_2.13-3.1.0.tgz"
      ]
    },
    {
      "cell_type": "code",
      "execution_count": 3,
      "metadata": {
        "colab": {
          "base_uri": "https://localhost:8080/"
        },
        "id": "UDJYdAp3WT4L",
        "outputId": "476ce020-9acd-4575-dbf4-8ee738f70984"
      },
      "outputs": [
        {
          "output_type": "stream",
          "name": "stdout",
          "text": [
            "kafka_2.13-3.1.0  kafka_2.13-3.1.0.tgz\tsample_data\n"
          ]
        }
      ],
      "source": [
        "!ls"
      ]
    },
    {
      "cell_type": "markdown",
      "metadata": {
        "id": "XJc6DH6VBFPQ"
      },
      "source": [
        "Using the default configurations (provided by Apache Kafka) for spinning up the instances."
      ]
    },
    {
      "cell_type": "code",
      "execution_count": 6,
      "metadata": {
        "id": "0nKBoWTgYqnV",
        "colab": {
          "base_uri": "https://localhost:8080/"
        },
        "outputId": "1300826b-61cb-478f-cbf1-f3cc517a4505"
      },
      "outputs": [
        {
          "output_type": "stream",
          "name": "stdout",
          "text": [
            "Waiting for 10 secs until kafka and zookeeper services are up and running\n"
          ]
        }
      ],
      "source": [
        "!./kafka_2.13-3.1.0/bin/zookeeper-server-start.sh -daemon ./kafka_2.13-3.1.0/config/zookeeper.properties\n",
        "!./kafka_2.13-3.1.0/bin/kafka-server-start.sh -daemon ./kafka_2.13-3.1.0/config/server.properties\n",
        "!echo \"Waiting for 10 secs until kafka and zookeeper services are up and running\"\n",
        "!sleep 10"
      ]
    },
    {
      "cell_type": "code",
      "execution_count": 7,
      "metadata": {
        "colab": {
          "base_uri": "https://localhost:8080/"
        },
        "id": "bN9RnVcUZz3O",
        "outputId": "c1023903-f3e3-495f-cbb7-545569a85d16"
      },
      "outputs": [
        {
          "output_type": "stream",
          "name": "stdout",
          "text": [
            "root        1531       1  0 12:27 ?        00:00:03 java -Xmx512M -Xms512M -server -XX:+UseG1GC -XX:MaxGCPauseMillis=20 -XX:InitiatingHeapOccupancyPercent=35 -XX:+ExplicitGCInvokesConcurrent -XX:MaxInlineLevel=15 -Djava.awt.headless=true -Xlog:gc*:file=/content/kafka_2.13-3.1.0/bin/../logs/zookeeper-gc.log:time,tags:filecount=10,filesize=100M -Dcom.sun.management.jmxremote -Dcom.sun.management.jmxremote.authenticate=false -Dcom.sun.management.jmxremote.ssl=false -Dkafka.logs.dir=/content/kafka_2.13-3.1.0/bin/../logs -Dlog4j.configuration=file:./kafka_2.13-3.1.0/bin/../config/log4j.properties -cp /content/kafka_2.13-3.1.0/bin/../libs/activation-1.1.1.jar:/content/kafka_2.13-3.1.0/bin/../libs/aopalliance-repackaged-2.6.1.jar:/content/kafka_2.13-3.1.0/bin/../libs/argparse4j-0.7.0.jar:/content/kafka_2.13-3.1.0/bin/../libs/audience-annotations-0.5.0.jar:/content/kafka_2.13-3.1.0/bin/../libs/commons-cli-1.4.jar:/content/kafka_2.13-3.1.0/bin/../libs/commons-lang3-3.8.1.jar:/content/kafka_2.13-3.1.0/bin/../libs/connect-api-3.1.0.jar:/content/kafka_2.13-3.1.0/bin/../libs/connect-basic-auth-extension-3.1.0.jar:/content/kafka_2.13-3.1.0/bin/../libs/connect-file-3.1.0.jar:/content/kafka_2.13-3.1.0/bin/../libs/connect-json-3.1.0.jar:/content/kafka_2.13-3.1.0/bin/../libs/connect-mirror-3.1.0.jar:/content/kafka_2.13-3.1.0/bin/../libs/connect-mirror-client-3.1.0.jar:/content/kafka_2.13-3.1.0/bin/../libs/connect-runtime-3.1.0.jar:/content/kafka_2.13-3.1.0/bin/../libs/connect-transforms-3.1.0.jar:/content/kafka_2.13-3.1.0/bin/../libs/hk2-api-2.6.1.jar:/content/kafka_2.13-3.1.0/bin/../libs/hk2-locator-2.6.1.jar:/content/kafka_2.13-3.1.0/bin/../libs/hk2-utils-2.6.1.jar:/content/kafka_2.13-3.1.0/bin/../libs/jackson-annotations-2.12.3.jar:/content/kafka_2.13-3.1.0/bin/../libs/jackson-core-2.12.3.jar:/content/kafka_2.13-3.1.0/bin/../libs/jackson-databind-2.12.3.jar:/content/kafka_2.13-3.1.0/bin/../libs/jackson-dataformat-csv-2.12.3.jar:/content/kafka_2.13-3.1.0/bin/../libs/jackson-datatype-jdk8-2.12.3.jar:/content/kafka_2.13-3.1.0/bin/../libs/jackson-jaxrs-base-2.12.3.jar:/content/kafka_2.13-3.1.0/bin/../libs/jackson-jaxrs-json-provider-2.12.3.jar:/content/kafka_2.13-3.1.0/bin/../libs/jackson-module-jaxb-annotations-2.12.3.jar:/content/kafka_2.13-3.1.0/bin/../libs/jackson-module-scala_2.13-2.12.3.jar:/content/kafka_2.13-3.1.0/bin/../libs/jakarta.activation-api-1.2.1.jar:/content/kafka_2.13-3.1.0/bin/../libs/jakarta.annotation-api-1.3.5.jar:/content/kafka_2.13-3.1.0/bin/../libs/jakarta.inject-2.6.1.jar:/content/kafka_2.13-3.1.0/bin/../libs/jakarta.validation-api-2.0.2.jar:/content/kafka_2.13-3.1.0/bin/../libs/jakarta.ws.rs-api-2.1.6.jar:/content/kafka_2.13-3.1.0/bin/../libs/jakarta.xml.bind-api-2.3.2.jar:/content/kafka_2.13-3.1.0/bin/../libs/javassist-3.27.0-GA.jar:/content/kafka_2.13-3.1.0/bin/../libs/javax.servlet-api-3.1.0.jar:/content/kafka_2.13-3.1.0/bin/../libs/javax.ws.rs-api-2.1.1.jar:/content/kafka_2.13-3.1.0/bin/../libs/jaxb-api-2.3.0.jar:/content/kafka_2.13-3.1.0/bin/../libs/jersey-client-2.34.jar:/content/kafka_2.13-3.1.0/bin/../libs/jersey-common-2.34.jar:/content/kafka_2.13-3.1.0/bin/../libs/jersey-container-servlet-2.34.jar:/content/kafka_2.13-3.1.0/bin/../libs/jersey-container-servlet-core-2.34.jar:/content/kafka_2.13-3.1.0/bin/../libs/jersey-hk2-2.34.jar:/content/kafka_2.13-3.1.0/bin/../libs/jersey-server-2.34.jar:/content/kafka_2.13-3.1.0/bin/../libs/jetty-client-9.4.43.v20210629.jar:/content/kafka_2.13-3.1.0/bin/../libs/jetty-continuation-9.4.43.v20210629.jar:/content/kafka_2.13-3.1.0/bin/../libs/jetty-http-9.4.43.v20210629.jar:/content/kafka_2.13-3.1.0/bin/../libs/jetty-io-9.4.43.v20210629.jar:/content/kafka_2.13-3.1.0/bin/../libs/jetty-security-9.4.43.v20210629.jar:/content/kafka_2.13-3.1.0/bin/../libs/jetty-server-9.4.43.v20210629.jar:/content/kafka_2.13-3.1.0/bin/../libs/jetty-servlet-9.4.43.v20210629.jar:/content/kafka_2.13-3.1.0/bin/../libs/jetty-servlets-9.4.43.v20210629.jar:/content/kafka_2.13-3.1.0/bin/../libs/jetty-util-9.4.43.v20210629.jar:/content/kafka_2.13-3.1.0/bin/../libs/jetty-util-ajax-9.4.43.v20210629.jar:/content/kafka_2.13-3.1.0/bin/../libs/jline-3.12.1.jar:/content/kafka_2.13-3.1.0/bin/../libs/jopt-simple-5.0.4.jar:/content/kafka_2.13-3.1.0/bin/../libs/jose4j-0.7.8.jar:/content/kafka_2.13-3.1.0/bin/../libs/kafka_2.13-3.1.0.jar:/content/kafka_2.13-3.1.0/bin/../libs/kafka-clients-3.1.0.jar:/content/kafka_2.13-3.1.0/bin/../libs/kafka-log4j-appender-3.1.0.jar:/content/kafka_2.13-3.1.0/bin/../libs/kafka-metadata-3.1.0.jar:/content/kafka_2.13-3.1.0/bin/../libs/kafka-raft-3.1.0.jar:/content/kafka_2.13-3.1.0/bin/../libs/kafka-server-common-3.1.0.jar:/content/kafka_2.13-3.1.0/bin/../libs/kafka-shell-3.1.0.jar:/content/kafka_2.13-3.1.0/bin/../libs/kafka-storage-3.1.0.jar:/content/kafka_2.13-3.1.0/bin/../libs/kafka-storage-api-3.1.0.jar:/content/kafka_2.13-3.1.0/bin/../libs/kafka-streams-3.1.0.jar:/content/kafka_2.13-3.1.0/bin/../libs/kafka-streams-examples-3.1.0.jar:/content/kafka_2.13-3.1.0/bin/../libs/kafka-streams-scala_2.13-3.1.0.jar:/content/kafka_2.13-3.1.0/bin/../libs/kafka-streams-test-utils-3.1.0.jar:/content/kafka_2.13-3.1.0/bin/../libs/kafka-tools-3.1.0.jar:/content/kafka_2.13-3.1.0/bin/../libs/log4j-1.2.17.jar:/content/kafka_2.13-3.1.0/bin/../libs/lz4-java-1.8.0.jar:/content/kafka_2.13-3.1.0/bin/../libs/maven-artifact-3.8.1.jar:/content/kafka_2.13-3.1.0/bin/../libs/metrics-core-2.2.0.jar:/content/kafka_2.13-3.1.0/bin/../libs/metrics-core-4.1.12.1.jar:/content/kafka_2.13-3.1.0/bin/../libs/netty-buffer-4.1.68.Final.jar:/content/kafka_2.13-3.1.0/bin/../libs/netty-codec-4.1.68.Final.jar:/content/kafka_2.13-3.1.0/bin/../libs/netty-common-4.1.68.Final.jar:/content/kafka_2.13-3.1.0/bin/../libs/netty-handler-4.1.68.Final.jar:/content/kafka_2.13-3.1.0/bin/../libs/netty-resolver-4.1.68.Final.jar:/content/kafka_2.13-3.1.0/bin/../libs/netty-transport-4.1.68.Final.jar:/content/kafka_2.13-3.1.0/bin/../libs/netty-transport-native-epoll-4.1.68.Final.jar:/content/kafka_2.13-3.1.0/bin/../libs/netty-transport-native-unix-common-4.1.68.Final.jar:/content/kafka_2.13-3.1.0/bin/../libs/osgi-resource-locator-1.0.3.jar:/content/kafka_2.13-3.1.0/bin/../libs/paranamer-2.8.jar:/content/kafka_2.13-3.1.0/bin/../libs/plexus-utils-3.2.1.jar:/content/kafka_2.13-3.1.0/bin/../libs/reflections-0.9.12.jar:/content/kafka_2.13-3.1.0/bin/../libs/rocksdbjni-6.22.1.1.jar:/content/kafka_2.13-3.1.0/bin/../libs/scala-collection-compat_2.13-2.4.4.jar:/content/kafka_2.13-3.1.0/bin/../libs/scala-java8-compat_2.13-1.0.0.jar:/content/kafka_2.13-3.1.0/bin/../libs/scala-library-2.13.6.jar:/content/kafka_2.13-3.1.0/bin/../libs/scala-logging_2.13-3.9.3.jar:/content/kafka_2.13-3.1.0/bin/../libs/scala-reflect-2.13.6.jar:/content/kafka_2.13-3.1.0/bin/../libs/slf4j-api-1.7.30.jar:/content/kafka_2.13-3.1.0/bin/../libs/slf4j-log4j12-1.7.30.jar:/content/kafka_2.13-3.1.0/bin/../libs/snappy-java-1.1.8.4.jar:/content/kafka_2.13-3.1.0/bin/../libs/trogdor-3.1.0.jar:/content/kafka_2.13-3.1.0/bin/../libs/zookeeper-3.6.3.jar:/content/kafka_2.13-3.1.0/bin/../libs/zookeeper-jute-3.6.3.jar:/content/kafka_2.13-3.1.0/bin/../libs/zstd-jni-1.5.0-4.jar org.apache.zookeeper.server.quorum.QuorumPeerMain ./kafka_2.13-3.1.0/config/zookeeper.properties\n",
            "root        1886       1  1 12:27 ?        00:00:12 java -Xmx1G -Xms1G -server -XX:+UseG1GC -XX:MaxGCPauseMillis=20 -XX:InitiatingHeapOccupancyPercent=35 -XX:+ExplicitGCInvokesConcurrent -XX:MaxInlineLevel=15 -Djava.awt.headless=true -Xlog:gc*:file=/content/kafka_2.13-3.1.0/bin/../logs/kafkaServer-gc.log:time,tags:filecount=10,filesize=100M -Dcom.sun.management.jmxremote -Dcom.sun.management.jmxremote.authenticate=false -Dcom.sun.management.jmxremote.ssl=false -Dkafka.logs.dir=/content/kafka_2.13-3.1.0/bin/../logs -Dlog4j.configuration=file:./kafka_2.13-3.1.0/bin/../config/log4j.properties -cp /content/kafka_2.13-3.1.0/bin/../libs/activation-1.1.1.jar:/content/kafka_2.13-3.1.0/bin/../libs/aopalliance-repackaged-2.6.1.jar:/content/kafka_2.13-3.1.0/bin/../libs/argparse4j-0.7.0.jar:/content/kafka_2.13-3.1.0/bin/../libs/audience-annotations-0.5.0.jar:/content/kafka_2.13-3.1.0/bin/../libs/commons-cli-1.4.jar:/content/kafka_2.13-3.1.0/bin/../libs/commons-lang3-3.8.1.jar:/content/kafka_2.13-3.1.0/bin/../libs/connect-api-3.1.0.jar:/content/kafka_2.13-3.1.0/bin/../libs/connect-basic-auth-extension-3.1.0.jar:/content/kafka_2.13-3.1.0/bin/../libs/connect-file-3.1.0.jar:/content/kafka_2.13-3.1.0/bin/../libs/connect-json-3.1.0.jar:/content/kafka_2.13-3.1.0/bin/../libs/connect-mirror-3.1.0.jar:/content/kafka_2.13-3.1.0/bin/../libs/connect-mirror-client-3.1.0.jar:/content/kafka_2.13-3.1.0/bin/../libs/connect-runtime-3.1.0.jar:/content/kafka_2.13-3.1.0/bin/../libs/connect-transforms-3.1.0.jar:/content/kafka_2.13-3.1.0/bin/../libs/hk2-api-2.6.1.jar:/content/kafka_2.13-3.1.0/bin/../libs/hk2-locator-2.6.1.jar:/content/kafka_2.13-3.1.0/bin/../libs/hk2-utils-2.6.1.jar:/content/kafka_2.13-3.1.0/bin/../libs/jackson-annotations-2.12.3.jar:/content/kafka_2.13-3.1.0/bin/../libs/jackson-core-2.12.3.jar:/content/kafka_2.13-3.1.0/bin/../libs/jackson-databind-2.12.3.jar:/content/kafka_2.13-3.1.0/bin/../libs/jackson-dataformat-csv-2.12.3.jar:/content/kafka_2.13-3.1.0/bin/../libs/jackson-datatype-jdk8-2.12.3.jar:/content/kafka_2.13-3.1.0/bin/../libs/jackson-jaxrs-base-2.12.3.jar:/content/kafka_2.13-3.1.0/bin/../libs/jackson-jaxrs-json-provider-2.12.3.jar:/content/kafka_2.13-3.1.0/bin/../libs/jackson-module-jaxb-annotations-2.12.3.jar:/content/kafka_2.13-3.1.0/bin/../libs/jackson-module-scala_2.13-2.12.3.jar:/content/kafka_2.13-3.1.0/bin/../libs/jakarta.activation-api-1.2.1.jar:/content/kafka_2.13-3.1.0/bin/../libs/jakarta.annotation-api-1.3.5.jar:/content/kafka_2.13-3.1.0/bin/../libs/jakarta.inject-2.6.1.jar:/content/kafka_2.13-3.1.0/bin/../libs/jakarta.validation-api-2.0.2.jar:/content/kafka_2.13-3.1.0/bin/../libs/jakarta.ws.rs-api-2.1.6.jar:/content/kafka_2.13-3.1.0/bin/../libs/jakarta.xml.bind-api-2.3.2.jar:/content/kafka_2.13-3.1.0/bin/../libs/javassist-3.27.0-GA.jar:/content/kafka_2.13-3.1.0/bin/../libs/javax.servlet-api-3.1.0.jar:/content/kafka_2.13-3.1.0/bin/../libs/javax.ws.rs-api-2.1.1.jar:/content/kafka_2.13-3.1.0/bin/../libs/jaxb-api-2.3.0.jar:/content/kafka_2.13-3.1.0/bin/../libs/jersey-client-2.34.jar:/content/kafka_2.13-3.1.0/bin/../libs/jersey-common-2.34.jar:/content/kafka_2.13-3.1.0/bin/../libs/jersey-container-servlet-2.34.jar:/content/kafka_2.13-3.1.0/bin/../libs/jersey-container-servlet-core-2.34.jar:/content/kafka_2.13-3.1.0/bin/../libs/jersey-hk2-2.34.jar:/content/kafka_2.13-3.1.0/bin/../libs/jersey-server-2.34.jar:/content/kafka_2.13-3.1.0/bin/../libs/jetty-client-9.4.43.v20210629.jar:/content/kafka_2.13-3.1.0/bin/../libs/jetty-continuation-9.4.43.v20210629.jar:/content/kafka_2.13-3.1.0/bin/../libs/jetty-http-9.4.43.v20210629.jar:/content/kafka_2.13-3.1.0/bin/../libs/jetty-io-9.4.43.v20210629.jar:/content/kafka_2.13-3.1.0/bin/../libs/jetty-security-9.4.43.v20210629.jar:/content/kafka_2.13-3.1.0/bin/../libs/jetty-server-9.4.43.v20210629.jar:/content/kafka_2.13-3.1.0/bin/../libs/jetty-servlet-9.4.43.v20210629.jar:/content/kafka_2.13-3.1.0/bin/../libs/jetty-servlets-9.4.43.v20210629.jar:/content/kafka_2.13-3.1.0/bin/../libs/jetty-util-9.4.43.v20210629.jar:/content/kafka_2.13-3.1.0/bin/../libs/jetty-util-ajax-9.4.43.v20210629.jar:/content/kafka_2.13-3.1.0/bin/../libs/jline-3.12.1.jar:/content/kafka_2.13-3.1.0/bin/../libs/jopt-simple-5.0.4.jar:/content/kafka_2.13-3.1.0/bin/../libs/jose4j-0.7.8.jar:/content/kafka_2.13-3.1.0/bin/../libs/kafka_2.13-3.1.0.jar:/content/kafka_2.13-3.1.0/bin/../libs/kafka-clients-3.1.0.jar:/content/kafka_2.13-3.1.0/bin/../libs/kafka-log4j-appender-3.1.0.jar:/content/kafka_2.13-3.1.0/bin/../libs/kafka-metadata-3.1.0.jar:/content/kafka_2.13-3.1.0/bin/../libs/kafka-raft-3.1.0.jar:/content/kafka_2.13-3.1.0/bin/../libs/kafka-server-common-3.1.0.jar:/content/kafka_2.13-3.1.0/bin/../libs/kafka-shell-3.1.0.jar:/content/kafka_2.13-3.1.0/bin/../libs/kafka-storage-3.1.0.jar:/content/kafka_2.13-3.1.0/bin/../libs/kafka-storage-api-3.1.0.jar:/content/kafka_2.13-3.1.0/bin/../libs/kafka-streams-3.1.0.jar:/content/kafka_2.13-3.1.0/bin/../libs/kafka-streams-examples-3.1.0.jar:/content/kafka_2.13-3.1.0/bin/../libs/kafka-streams-scala_2.13-3.1.0.jar:/content/kafka_2.13-3.1.0/bin/../libs/kafka-streams-test-utils-3.1.0.jar:/content/kafka_2.13-3.1.0/bin/../libs/kafka-tools-3.1.0.jar:/content/kafka_2.13-3.1.0/bin/../libs/log4j-1.2.17.jar:/content/kafka_2.13-3.1.0/bin/../libs/lz4-java-1.8.0.jar:/content/kafka_2.13-3.1.0/bin/../libs/maven-artifact-3.8.1.jar:/content/kafka_2.13-3.1.0/bin/../libs/metrics-core-2.2.0.jar:/content/kafka_2.13-3.1.0/bin/../libs/metrics-core-4.1.12.1.jar:/content/kafka_2.13-3.1.0/bin/../libs/netty-buffer-4.1.68.Final.jar:/content/kafka_2.13-3.1.0/bin/../libs/netty-codec-4.1.68.Final.jar:/content/kafka_2.13-3.1.0/bin/../libs/netty-common-4.1.68.Final.jar:/content/kafka_2.13-3.1.0/bin/../libs/netty-handler-4.1.68.Final.jar:/content/kafka_2.13-3.1.0/bin/../libs/netty-resolver-4.1.68.Final.jar:/content/kafka_2.13-3.1.0/bin/../libs/netty-transport-4.1.68.Final.jar:/content/kafka_2.13-3.1.0/bin/../libs/netty-transport-native-epoll-4.1.68.Final.jar:/content/kafka_2.13-3.1.0/bin/../libs/netty-transport-native-unix-common-4.1.68.Final.jar:/content/kafka_2.13-3.1.0/bin/../libs/osgi-resource-locator-1.0.3.jar:/content/kafka_2.13-3.1.0/bin/../libs/paranamer-2.8.jar:/content/kafka_2.13-3.1.0/bin/../libs/plexus-utils-3.2.1.jar:/content/kafka_2.13-3.1.0/bin/../libs/reflections-0.9.12.jar:/content/kafka_2.13-3.1.0/bin/../libs/rocksdbjni-6.22.1.1.jar:/content/kafka_2.13-3.1.0/bin/../libs/scala-collection-compat_2.13-2.4.4.jar:/content/kafka_2.13-3.1.0/bin/../libs/scala-java8-compat_2.13-1.0.0.jar:/content/kafka_2.13-3.1.0/bin/../libs/scala-library-2.13.6.jar:/content/kafka_2.13-3.1.0/bin/../libs/scala-logging_2.13-3.9.3.jar:/content/kafka_2.13-3.1.0/bin/../libs/scala-reflect-2.13.6.jar:/content/kafka_2.13-3.1.0/bin/../libs/slf4j-api-1.7.30.jar:/content/kafka_2.13-3.1.0/bin/../libs/slf4j-log4j12-1.7.30.jar:/content/kafka_2.13-3.1.0/bin/../libs/snappy-java-1.1.8.4.jar:/content/kafka_2.13-3.1.0/bin/../libs/trogdor-3.1.0.jar:/content/kafka_2.13-3.1.0/bin/../libs/zookeeper-3.6.3.jar:/content/kafka_2.13-3.1.0/bin/../libs/zookeeper-jute-3.6.3.jar:/content/kafka_2.13-3.1.0/bin/../libs/zstd-jni-1.5.0-4.jar kafka.Kafka ./kafka_2.13-3.1.0/config/server.properties\n",
            "root        2104      61  0 12:40 ?        00:00:00 /bin/bash -c ps -ef | grep kafka\n",
            "root        2106    2104  0 12:40 ?        00:00:00 grep kafka\n"
          ]
        }
      ],
      "source": [
        "!ps -ef | grep kafka"
      ]
    },
    {
      "cell_type": "code",
      "execution_count": 8,
      "metadata": {
        "colab": {
          "base_uri": "https://localhost:8080/"
        },
        "id": "02WiLZxYcoZh",
        "outputId": "bbadfe6b-91aa-448f-a63c-ae386ad82374"
      },
      "outputs": [
        {
          "output_type": "stream",
          "name": "stdout",
          "text": [
            "Created topic susy-train.\n",
            "Created topic susy-test.\n"
          ]
        }
      ],
      "source": [
        "!./kafka_2.13-3.1.0/bin/kafka-topics.sh --create --bootstrap-server 127.0.0.1:9092 --replication-factor 1 --partitions 1 --topic susy-train\n",
        "!./kafka_2.13-3.1.0/bin/kafka-topics.sh --create --bootstrap-server 127.0.0.1:9092 --replication-factor 1 --partitions 2 --topic susy-test\n"
      ]
    },
    {
      "cell_type": "code",
      "execution_count": 9,
      "metadata": {
        "colab": {
          "base_uri": "https://localhost:8080/"
        },
        "id": "W4z0ut70PLVC",
        "outputId": "9c45be35-0397-4ef2-b1af-cb676edf604e"
      },
      "outputs": [
        {
          "output_type": "stream",
          "name": "stdout",
          "text": [
            "Topic: susy-train\tTopicId: 2RrhvnwcRqmy9SRBmlFB9g\tPartitionCount: 1\tReplicationFactor: 1\tConfigs: segment.bytes=1073741824\n",
            "\tTopic: susy-train\tPartition: 0\tLeader: 0\tReplicas: 0\tIsr: 0\n",
            "Topic: susy-test\tTopicId: o2mOnDOpSFWOgSqLH8fyEQ\tPartitionCount: 2\tReplicationFactor: 1\tConfigs: segment.bytes=1073741824\n",
            "\tTopic: susy-test\tPartition: 0\tLeader: 0\tReplicas: 0\tIsr: 0\n",
            "\tTopic: susy-test\tPartition: 1\tLeader: 0\tReplicas: 0\tIsr: 0\n"
          ]
        }
      ],
      "source": [
        "!./kafka_2.13-3.1.0/bin/kafka-topics.sh --describe --bootstrap-server 127.0.0.1:9092 --topic susy-train\n",
        "!./kafka_2.13-3.1.0/bin/kafka-topics.sh --describe --bootstrap-server 127.0.0.1:9092 --topic susy-test"
      ]
    },
    {
      "cell_type": "code",
      "execution_count": 10,
      "metadata": {
        "colab": {
          "base_uri": "https://localhost:8080/"
        },
        "id": "EUQOhcV9QEAo",
        "outputId": "73a1a8d7-c689-4b79-da94-617aae740d50"
      },
      "outputs": [
        {
          "output_type": "stream",
          "name": "stdout",
          "text": [
            "susy-test\n",
            "susy-train\n"
          ]
        }
      ],
      "source": [
        "!./kafka_2.13-3.1.0/bin/kafka-topics.sh --list --bootstrap-server 127.0.0.1:9092\n"
      ]
    },
    {
      "cell_type": "code",
      "execution_count": 11,
      "metadata": {
        "id": "R5nRfsfFa7CA",
        "colab": {
          "base_uri": "https://localhost:8080/"
        },
        "outputId": "f2e8f72f-b1ee-4ff1-da2d-d8f293c20db3"
      },
      "outputs": [
        {
          "output_type": "stream",
          "name": "stdout",
          "text": [
            ">new\n",
            ">thread\n",
            ">images\n",
            ">soon to follow\n",
            ">"
          ]
        }
      ],
      "source": [
        "!./kafka_2.13-3.1.0/bin/kafka-console-producer.sh  --broker-list 127.0.0.1:9092  --topic susy-train "
      ]
    },
    {
      "cell_type": "code",
      "execution_count": 12,
      "metadata": {
        "id": "m1OhgpJvnoUb",
        "colab": {
          "base_uri": "https://localhost:8080/"
        },
        "outputId": "c1432427-609f-4a9a-e33f-bcf85c8aae62"
      },
      "outputs": [
        {
          "output_type": "stream",
          "name": "stdout",
          "text": [
            "new\n",
            "thread\n",
            "images\n",
            "soon to follow\n",
            "Processed a total of 4 messages\n"
          ]
        }
      ],
      "source": [
        "!./kafka_2.13-3.1.0/bin/kafka-console-consumer.sh --topic susy-train --bootstrap-server localhost:9092 --from-beginning"
      ]
    },
    {
      "cell_type": "markdown",
      "metadata": {
        "id": "dHsyKh9jqgm6"
      },
      "source": [
        "Using Python to interact with kafka"
      ]
    },
    {
      "cell_type": "code",
      "execution_count": 2,
      "metadata": {
        "id": "q05T2B5hr8rc",
        "colab": {
          "base_uri": "https://localhost:8080/"
        },
        "outputId": "5946f928-af05-4c46-81a7-6e91f66a0148"
      },
      "outputs": [
        {
          "output_type": "stream",
          "name": "stdout",
          "text": [
            "Looking in indexes: https://pypi.org/simple, https://us-python.pkg.dev/colab-wheels/public/simple/\n",
            "Collecting confluent-kafka\n",
            "  Downloading confluent_kafka-1.9.0-cp37-cp37m-manylinux2010_x86_64.whl (3.1 MB)\n",
            "\u001b[K     |████████████████████████████████| 3.1 MB 13.8 MB/s \n",
            "\u001b[?25hInstalling collected packages: confluent-kafka\n",
            "Successfully installed confluent-kafka-1.9.0\n"
          ]
        }
      ],
      "source": [
        "!pip install confluent-kafka"
      ]
    },
    {
      "cell_type": "code",
      "execution_count": null,
      "metadata": {
        "id": "8P9eTgkTpHQ0"
      },
      "outputs": [],
      "source": [
        "import asyncio \n",
        "\n",
        "from confluent_kafka import Consumer, Producer \n",
        "from confluent_kafka.admin import AdminClient, NewTopic \n",
        "\n",
        "BROKER_URL= \"PLAINTEXT://localhost:9092\" \n",
        "TOPIC_NAME= \"susy-train\" \n",
        "\n",
        "async def produce(topic_name): \n",
        "  \"\"\" Produce data into kafka topic\"\"\" \n",
        "  p= Producer({\"bootstrap.servers\":BROKER_URL})\n",
        "  curr_iteration=0 \n",
        "  \n",
        "  while True: \n",
        "    p.produce(TOPIC_NAME, f\"Message:{curr_iteration}\")\n",
        "    curr_iteration+=1 \n",
        "\n",
        "\n",
        "    await asyncio.sleep(1)\n",
        "\n",
        "\n",
        "\n",
        "\n",
        "async def consume(topic_name): \n",
        "  \"\"\" consume data from kafka topic\"\"\" \n",
        "  c= Consumer({\"bootstrap.servers\":BROKER_URL, \"group.id\":\"First-Python_consumer\"})\n",
        "  c.subscribe([TOPIC_NAME]) \n",
        "\n",
        "  while True:\n",
        "    message= c.poll(1.0)\n",
        "    if message is None :\n",
        "      print(\"No message received\") \n",
        "    \n",
        "    elif message.error() is not None: \n",
        "      print(f\"Message had an error{ message.error()}\")\n",
        "    else: \n",
        "      print(f\"Key: {message.key()}, Value:{message.value()}\")\n",
        "\n",
        "    await asyncio.sleep(1) \n",
        "\n",
        "\n",
        "async def produce_consume():\n",
        "  \"\"\" Runs the producer and consumer task\"\"\"\n",
        "  t1= asyncio.create_task(produce(TOPIC_NAME)) \n",
        "  t2= asyncio.create_task(consume(TOPIC_NAME))\n",
        "\n",
        "  await t1\n",
        "  await t2\n",
        "\n",
        "\n",
        "\n",
        "def main():\n",
        "  client= AdminClient({\"bootstrap.servers\":BROKER_URL})\n",
        "  topic= NewTopic(TOPIC_NAME, num_partitions=1, replication_factor=1)\n",
        "\n",
        "  client.create_topics([topic])\n",
        "\n",
        "  try: \n",
        "    asyncio.run(produce_consume()) \n",
        "  \n",
        "  except: \n",
        "    print(\"Shutting Down\") \n",
        "  \n",
        "  finally: \n",
        "    client.delete_topics([topic]) \n",
        "    pass \n",
        "\n",
        "\n",
        "\n",
        "main()"
      ]
    },
    {
      "cell_type": "code",
      "execution_count": null,
      "metadata": {
        "id": "Cr9sdhcJvLiU"
      },
      "outputs": [],
      "source": [
        "#!tail -f /var/log/journal/confluent-kafka.service.log    ---Kafka logs"
      ]
    },
    {
      "cell_type": "markdown",
      "source": [
        "Create Topic "
      ],
      "metadata": {
        "id": "1quV8ti3ROYp"
      }
    },
    {
      "cell_type": "code",
      "execution_count": 6,
      "metadata": {
        "id": "79z0LEdYwvg_",
        "colab": {
          "base_uri": "https://localhost:8080/"
        },
        "outputId": "d6d9d96b-2e15-407a-8279-bc11c03abfbe"
      },
      "outputs": [
        {
          "output_type": "stream",
          "name": "stdout",
          "text": [
            "Created topic kafka-arch.\n"
          ]
        }
      ],
      "source": [
        "!./kafka_2.13-3.1.0/bin/kafka-topics.sh --create --bootstrap-server 127.0.0.1:9092 --replication-factor 1 --partitions 1 --topic kafka-arch \n"
      ]
    },
    {
      "cell_type": "code",
      "source": [
        "!./kafka_2.13-3.1.0/bin/kafka-topics.sh --alter --topic kafka-arch --partitions 3 --bootstrap-server 127.0.0.1:9092"
      ],
      "metadata": {
        "id": "t_gh_et9Sw23"
      },
      "execution_count": 10,
      "outputs": []
    },
    {
      "cell_type": "code",
      "source": [
        "! ls kafka_2.13-3.1.0/bin"
      ],
      "metadata": {
        "id": "OT_KqujPU_e9"
      },
      "execution_count": null,
      "outputs": []
    },
    {
      "cell_type": "code",
      "source": [
        "! ls kafka_2.13-3.1.0/config"
      ],
      "metadata": {
        "id": "4pPC3fdCVFv2"
      },
      "execution_count": null,
      "outputs": []
    },
    {
      "cell_type": "code",
      "source": [
        "! ls kafka_2.13-3.1.0/libs"
      ],
      "metadata": {
        "id": "t9FDPcLOWZ_T"
      },
      "execution_count": null,
      "outputs": []
    },
    {
      "cell_type": "code",
      "source": [
        "! ls kafka_2.13-3.1.0/"
      ],
      "metadata": {
        "colab": {
          "base_uri": "https://localhost:8080/"
        },
        "id": "NOQcpw1NWhLs",
        "outputId": "4eb99cd9-a6a2-4d74-c834-0397edac86a7"
      },
      "execution_count": 29,
      "outputs": [
        {
          "output_type": "stream",
          "name": "stdout",
          "text": [
            "bin  config  libs  LICENSE  licenses  logs  NOTICE  site-docs\n"
          ]
        }
      ]
    },
    {
      "cell_type": "code",
      "source": [
        "! ls /usr"
      ],
      "metadata": {
        "colab": {
          "base_uri": "https://localhost:8080/"
        },
        "id": "fQQRbqg3Wtrw",
        "outputId": "6786f01c-fe58-48d8-9ef8-bf1673839373"
      },
      "execution_count": 39,
      "outputs": [
        {
          "output_type": "stream",
          "name": "stdout",
          "text": [
            "bin  games  grte  include  lib\tlib32  local  sbin  share  src\n"
          ]
        }
      ]
    },
    {
      "cell_type": "code",
      "source": [
        "! find / -name kafka-arch\n",
        "\n"
      ],
      "metadata": {
        "colab": {
          "base_uri": "https://localhost:8080/"
        },
        "id": "1whiDHH_YMb8",
        "outputId": "a62269bb-20bf-49b9-8e2e-b321e04d639f"
      },
      "execution_count": 42,
      "outputs": [
        {
          "output_type": "stream",
          "name": "stdout",
          "text": [
            "find: ‘/proc/28/task/28/net’: Invalid argument\n",
            "find: ‘/proc/28/net’: Invalid argument\n"
          ]
        }
      ]
    },
    {
      "cell_type": "code",
      "source": [
        "import asyncio \n",
        "\n",
        "from confluent_kafka import Consumer, Producer \n",
        "from confluent_kafka.admin import AdminClient, NewTopic \n",
        "\n",
        "BROKER_URL= \"PLAINTEXT://localhost:9092\" \n",
        "TOPIC_NAME=\"sample2\" \n",
        "\n",
        "async def produce(topic_name): \n",
        "  \"\"\" Produce data into kafka topic\"\"\" \n",
        "  p= Producer({\"bootstrap.servers\":BROKER_URL})\n",
        "  curr_iteration=0 \n",
        "  \n",
        "  while True: \n",
        "    p.produce(TOPIC_NAME, f\"Message:{curr_iteration}\")\n",
        "    curr_iteration+=1 \n",
        "\n",
        "\n",
        "    await asyncio.sleep(1)\n",
        "\n",
        "\n",
        "\n",
        "\n",
        "async def consume(topic_name): \n",
        "  \"\"\" consume data from kafka topic\"\"\" \n",
        "  c= Consumer({\"bootstrap.servers\":BROKER_URL, \"group.id\":\"First-Python_consumer\"})\n",
        "  c.subscribe([TOPIC_NAME]) \n",
        "\n",
        "  while True:\n",
        "    message= c.poll(1.0)\n",
        "    if message is None :\n",
        "      print(\"No message received\") \n",
        "    \n",
        "    elif message.error() is not None: \n",
        "      print(f\"Message had an error{ message.error()}\")\n",
        "    else: \n",
        "      print(f\"Key: {message.key()}, Value:{message.value()}\")\n",
        "\n",
        "    await asyncio.sleep(1) \n",
        "\n",
        "\n",
        "async def produce_consume():\n",
        "  \"\"\" Runs the producer and consumer task\"\"\"\n",
        "  t1= asyncio.create_task(produce(TOPIC_NAME)) \n",
        "  t2= asyncio.create_task(consume(TOPIC_NAME))\n",
        "\n",
        "  await t1\n",
        "  await t2\n",
        "\n",
        "\n",
        "\n",
        "#--------------------------------------------------\n",
        "def topic_exists(client, topic_name): \n",
        "  \"\"\"checks if the given topic exists\"\"\"\n",
        "  topic_metadata= client.list_topics(timeout=5) \n",
        "  return topic_metadata.topics.get(topic_name) is not None \n",
        "\n",
        "\n",
        "\n",
        "def create_topic(client, topic_name): \n",
        "  \"\"\" create the topic with the given topic name\"\"\" \n",
        "  futures= client.create_topics(\n",
        "      [\n",
        "       NewTopic(\n",
        "           topic= topic_name, \n",
        "           num_partitions=5, \n",
        "           replication_factor=1,\n",
        "           config={\n",
        "               \"cleanup.policy\": \"compact\",\n",
        "               \"compression.type\": \"lz4\",\n",
        "               \"delete.retention.ms\": \"100\",\n",
        "               \"file.delete.delay.ms\":100,\n",
        "\n",
        "           }\n",
        "       )\n",
        "      ]\n",
        "  )\n",
        "\n",
        "  for _, future in futures.items():\n",
        "    try: \n",
        "      future.result()\n",
        "      print(\"Topic Created\") \n",
        "    except Exception as e: \n",
        "      print(f\"failed to created topic {topic_name}:{e}\")\n",
        "      raise \n",
        "\n",
        "\n",
        "\n",
        "def main(): \n",
        "  \"\"\" check fro topic and creates the topic if it does not exist\"\"\" \n",
        "\n",
        "  client = AdminClient({\"bootstrap.servers\":BROKER_URL}) \n",
        "\n",
        "  # TODO: Decide on a topic name \n",
        "  topic_name= \"sample2\" \n",
        "  exists= topic_exists(client, topic_name) \n",
        "\n",
        "  print(f\"Topic{topic_name} exists: {exists}\")\n",
        "\n",
        "  if exists is False: \n",
        "    create_topic(client, topic_name) \n",
        "  \n",
        "  try: \n",
        "    asyncio.run(produce_consume())\n",
        "\n",
        "  except KeyboardInterrupt as e: \n",
        "    print(\"shutting Down\") \n",
        "\n",
        "\n",
        "\n",
        "main()"
      ],
      "metadata": {
        "id": "NoKUE-KGY8a8"
      },
      "execution_count": null,
      "outputs": []
    },
    {
      "cell_type": "code",
      "source": [
        ""
      ],
      "metadata": {
        "id": "0Ux4ZvVC2VAm"
      },
      "execution_count": null,
      "outputs": []
    }
  ],
  "metadata": {
    "colab": {
      "collapsed_sections": [],
      "name": "kafka.ipynb",
      "provenance": [],
      "authorship_tag": "ABX9TyPUFMo3n4Sb4YUetydDb7rg",
      "include_colab_link": true
    },
    "kernelspec": {
      "display_name": "Python 3",
      "name": "python3"
    },
    "language_info": {
      "name": "python"
    }
  },
  "nbformat": 4,
  "nbformat_minor": 0
}